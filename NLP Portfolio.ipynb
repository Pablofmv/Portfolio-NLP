{
 "cells": [
  {
   "cell_type": "markdown",
   "id": "9c43b3a5",
   "metadata": {},
   "source": [
    "# Named Entity Recognition"
   ]
  },
  {
   "cell_type": "markdown",
   "id": "c936a3a1",
   "metadata": {},
   "source": [
    "#### Extract a random new."
   ]
  },
  {
   "cell_type": "code",
   "execution_count": 5,
   "id": "95d1d761",
   "metadata": {},
   "outputs": [],
   "source": [
    "import json"
   ]
  },
  {
   "cell_type": "code",
   "execution_count": 6,
   "id": "b9c00001",
   "metadata": {},
   "outputs": [],
   "source": [
    "f = open(\"webhose_apple.json\")\n",
    "json_data=f.readlines()\n",
    "newsfeeds_apple = []\n",
    "for line in json_data:\n",
    "    newsfeeds_apple.append(json.loads(line))\n",
    "f.close()"
   ]
  },
  {
   "cell_type": "code",
   "execution_count": 7,
   "id": "89778ce4",
   "metadata": {
    "scrolled": false
   },
   "outputs": [],
   "source": [
    "text = newsfeeds_apple[106]['text']"
   ]
  },
  {
   "cell_type": "code",
   "execution_count": 8,
   "id": "5eafbd2d",
   "metadata": {},
   "outputs": [
    {
     "name": "stdout",
     "output_type": "stream",
     "text": [
      "US President Donald Trump's administration on Tuesday announced investigations into foreign digital services taxes it says are aimed squarely at American tech firms.\n",
      "Following a similar trade investigation against France last year, the US Trade Representative office now is looking into taxes in Britain and the European Union, as well as Indonesia, Turkey and India.\n",
      "\"President Trump is concerned that many of our trading partners are adopting tax schemes designed to unfairly target our companies,\" USTR Robert Lighthizer said in a statement.\n",
      "\"We are prepared to take all appropriate action to defend our businesses and workers against any such discrimination.\"\n",
      "Washington opposes the efforts to tax revenues from online sales and advertising, saying they single out US tech giants like Google, Apple, Facebook, Amazon and Netflix.\n",
      "The US and France have agreed to negotiate till the end of the year over a digital services tax Paris approved in 2019, after USTR found them to be discriminating and threatened retaliatory duties of up to 100 percent on French imports such as champagne and camembert cheese.\n",
      "Trump has embroiled the US in numerous trade disputes since taking office in 2017, including a months-long trade war with China that cooled with the signing of a partial deal in January.\n"
     ]
    }
   ],
   "source": [
    "print(text)"
   ]
  },
  {
   "cell_type": "markdown",
   "id": "08bcf6bf",
   "metadata": {},
   "source": [
    "#### Extract named entities using spaCy using a pre-trained language model."
   ]
  },
  {
   "cell_type": "code",
   "execution_count": 9,
   "id": "acb2ea31",
   "metadata": {},
   "outputs": [],
   "source": [
    "import os\n",
    "os.environ[\"KMP_DUPLICATE_LIB_OK\"] = \"TRUE\""
   ]
  },
  {
   "cell_type": "code",
   "execution_count": 10,
   "id": "236075fe",
   "metadata": {},
   "outputs": [],
   "source": [
    "import spacy"
   ]
  },
  {
   "cell_type": "code",
   "execution_count": 11,
   "id": "36a428f5",
   "metadata": {},
   "outputs": [],
   "source": [
    "nlp = spacy.blank('en')"
   ]
  },
  {
   "cell_type": "code",
   "execution_count": 12,
   "id": "00d49e3e",
   "metadata": {},
   "outputs": [
    {
     "data": {
      "text/plain": [
       "{'summary': {}, 'problems': {}, 'attrs': {}}"
      ]
     },
     "execution_count": 12,
     "metadata": {},
     "output_type": "execute_result"
    }
   ],
   "source": [
    "nlp.analyze_pipes()"
   ]
  },
  {
   "cell_type": "code",
   "execution_count": 13,
   "id": "1ee34572",
   "metadata": {},
   "outputs": [],
   "source": [
    "nlp = spacy.load('en_core_web_sm')"
   ]
  },
  {
   "cell_type": "code",
   "execution_count": 14,
   "id": "a417f4bf",
   "metadata": {},
   "outputs": [
    {
     "data": {
      "text/plain": [
       "dict_keys(['tok2vec', 'tagger', 'parser', 'attribute_ruler', 'lemmatizer', 'ner'])"
      ]
     },
     "execution_count": 14,
     "metadata": {},
     "output_type": "execute_result"
    }
   ],
   "source": [
    "nlp.analyze_pipes()['summary'].keys()"
   ]
  },
  {
   "cell_type": "code",
   "execution_count": 15,
   "id": "b09b3112",
   "metadata": {},
   "outputs": [],
   "source": [
    "doc = nlp(text)"
   ]
  },
  {
   "cell_type": "code",
   "execution_count": 16,
   "id": "f1ffa7f5",
   "metadata": {},
   "outputs": [
    {
     "data": {
      "text/plain": [
       "US President Donald Trump's administration on Tuesday announced investigations into foreign digital services taxes it says are aimed squarely at American tech firms.\n",
       "Following a similar trade investigation against France last year, the US Trade Representative office now is looking into taxes in Britain and the European Union, as well as Indonesia, Turkey and India.\n",
       "\"President Trump is concerned that many of our trading partners are adopting tax schemes designed to unfairly target our companies,\" USTR Robert Lighthizer said in a statement.\n",
       "\"We are prepared to take all appropriate action to defend our businesses and workers against any such discrimination.\"\n",
       "Washington opposes the efforts to tax revenues from online sales and advertising, saying they single out US tech giants like Google, Apple, Facebook, Amazon and Netflix.\n",
       "The US and France have agreed to negotiate till the end of the year over a digital services tax Paris approved in 2019, after USTR found them to be discriminating and threatened retaliatory duties of up to 100 percent on French imports such as champagne and camembert cheese.\n",
       "Trump has embroiled the US in numerous trade disputes since taking office in 2017, including a months-long trade war with China that cooled with the signing of a partial deal in January."
      ]
     },
     "execution_count": 16,
     "metadata": {},
     "output_type": "execute_result"
    }
   ],
   "source": [
    "doc"
   ]
  },
  {
   "cell_type": "code",
   "execution_count": 17,
   "id": "7b265b95",
   "metadata": {},
   "outputs": [
    {
     "data": {
      "text/plain": [
       "[US President Donald Trump's administration on Tuesday announced investigations into foreign digital services taxes it says are aimed squarely at American tech firms.,\n",
       " Following a similar trade investigation against France last year, the US Trade Representative office now is looking into taxes in Britain and the European Union, as well as Indonesia, Turkey and India.,\n",
       " \"President Trump is concerned that many of our trading partners are adopting tax schemes designed to unfairly target our companies,\" USTR Robert Lighthizer said in a statement.,\n",
       " \"We are prepared to take all appropriate action to defend our businesses and workers against any such discrimination.,\n",
       " \"\n",
       " Washington opposes the efforts to tax revenues from online sales and advertising, saying they single out US tech giants like Google, Apple, Facebook, Amazon and Netflix.,\n",
       " The US and France have agreed to negotiate till the end of the year over a digital services tax Paris approved in 2019, after USTR found them to be discriminating and threatened retaliatory duties of up to 100 percent on French imports such as champagne and camembert cheese.,\n",
       " Trump has embroiled the US in numerous trade disputes since taking office in 2017, including a months-long trade war with China that cooled with the signing of a partial deal in January.]"
      ]
     },
     "execution_count": 17,
     "metadata": {},
     "output_type": "execute_result"
    }
   ],
   "source": [
    "list(doc.sents)"
   ]
  },
  {
   "cell_type": "code",
   "execution_count": 18,
   "id": "6733fde1",
   "metadata": {},
   "outputs": [
    {
     "data": {
      "text/plain": [
       "[\"US President Donald Trump's administration on Tuesday announced investigations into foreign digital services taxes it says are aimed squarely at American tech firms.\\n\",\n",
       " 'Following a similar trade investigation against France last year, the US Trade Representative office now is looking into taxes in Britain and the European Union, as well as Indonesia, Turkey and India.\\n',\n",
       " '\"President Trump is concerned that many of our trading partners are adopting tax schemes designed to unfairly target our companies,\" USTR Robert Lighthizer said in a statement.\\n',\n",
       " '\"We are prepared to take all appropriate action to defend our businesses and workers against any such discrimination.',\n",
       " '\"\\nWashington opposes the efforts to tax revenues from online sales and advertising, saying they single out US tech giants like Google, Apple, Facebook, Amazon and Netflix.\\n',\n",
       " 'The US and France have agreed to negotiate till the end of the year over a digital services tax Paris approved in 2019, after USTR found them to be discriminating and threatened retaliatory duties of up to 100 percent on French imports such as champagne and camembert cheese.\\n',\n",
       " 'Trump has embroiled the US in numerous trade disputes since taking office in 2017, including a months-long trade war with China that cooled with the signing of a partial deal in January.']"
      ]
     },
     "execution_count": 18,
     "metadata": {},
     "output_type": "execute_result"
    }
   ],
   "source": [
    "[f'{sentence}' for sentence in doc.sents]"
   ]
  },
  {
   "cell_type": "code",
   "execution_count": 19,
   "id": "6c76e754",
   "metadata": {},
   "outputs": [
    {
     "data": {
      "text/plain": [
       "(US,\n",
       " Donald Trump,\n",
       " Tuesday,\n",
       " American,\n",
       " France,\n",
       " last year,\n",
       " the US Trade Representative,\n",
       " Britain,\n",
       " the European Union,\n",
       " Indonesia,\n",
       " Turkey,\n",
       " India,\n",
       " Trump,\n",
       " Robert Lighthizer,\n",
       " Washington,\n",
       " US,\n",
       " Google,\n",
       " Apple,\n",
       " Amazon,\n",
       " Netflix,\n",
       " US,\n",
       " France,\n",
       " the end of the year,\n",
       " Paris,\n",
       " 2019,\n",
       " USTR,\n",
       " up to 100 percent,\n",
       " French,\n",
       " Trump,\n",
       " US,\n",
       " 2017,\n",
       " months,\n",
       " China,\n",
       " January)"
      ]
     },
     "execution_count": 19,
     "metadata": {},
     "output_type": "execute_result"
    }
   ],
   "source": [
    "doc.ents"
   ]
  },
  {
   "cell_type": "markdown",
   "id": "a524b583",
   "metadata": {},
   "source": [
    "#### Print the named entities in a list and visualize the labeled entities using displaCy. "
   ]
  },
  {
   "cell_type": "code",
   "execution_count": 20,
   "id": "73eb7009",
   "metadata": {},
   "outputs": [
    {
     "data": {
      "text/plain": [
       "[(US, 'GPE'),\n",
       " (Donald Trump, 'PERSON'),\n",
       " (Tuesday, 'DATE'),\n",
       " (American, 'NORP'),\n",
       " (France, 'GPE'),\n",
       " (last year, 'DATE'),\n",
       " (the US Trade Representative, 'ORG'),\n",
       " (Britain, 'GPE'),\n",
       " (the European Union, 'ORG'),\n",
       " (Indonesia, 'GPE'),\n",
       " (Turkey, 'GPE'),\n",
       " (India, 'GPE'),\n",
       " (Trump, 'PERSON'),\n",
       " (Robert Lighthizer, 'PERSON'),\n",
       " (Washington, 'GPE'),\n",
       " (US, 'GPE'),\n",
       " (Google, 'ORG'),\n",
       " (Apple, 'ORG'),\n",
       " (Amazon, 'ORG'),\n",
       " (Netflix, 'GPE'),\n",
       " (US, 'GPE'),\n",
       " (France, 'GPE'),\n",
       " (the end of the year, 'DATE'),\n",
       " (Paris, 'GPE'),\n",
       " (2019, 'DATE'),\n",
       " (USTR, 'ORG'),\n",
       " (up to 100 percent, 'PERCENT'),\n",
       " (French, 'NORP'),\n",
       " (Trump, 'ORG'),\n",
       " (US, 'GPE'),\n",
       " (2017, 'DATE'),\n",
       " (months, 'DATE'),\n",
       " (China, 'GPE'),\n",
       " (January, 'DATE')]"
      ]
     },
     "execution_count": 20,
     "metadata": {},
     "output_type": "execute_result"
    }
   ],
   "source": [
    "[(ent, ent.label_) for ent in doc.ents]"
   ]
  },
  {
   "cell_type": "code",
   "execution_count": 21,
   "id": "6e8d8214",
   "metadata": {},
   "outputs": [],
   "source": [
    "from spacy import displacy"
   ]
  },
  {
   "cell_type": "code",
   "execution_count": 22,
   "id": "a11961e2",
   "metadata": {},
   "outputs": [
    {
     "data": {
      "text/html": [
       "<span class=\"tex2jax_ignore\"><div class=\"entities\" style=\"line-height: 2.5; direction: ltr\">\n",
       "<mark class=\"entity\" style=\"background: #feca74; padding: 0.45em 0.6em; margin: 0 0.25em; line-height: 1; border-radius: 0.35em;\">\n",
       "    US\n",
       "    <span style=\"font-size: 0.8em; font-weight: bold; line-height: 1; border-radius: 0.35em; vertical-align: middle; margin-left: 0.5rem\">GPE</span>\n",
       "</mark>\n",
       " President \n",
       "<mark class=\"entity\" style=\"background: #aa9cfc; padding: 0.45em 0.6em; margin: 0 0.25em; line-height: 1; border-radius: 0.35em;\">\n",
       "    Donald Trump\n",
       "    <span style=\"font-size: 0.8em; font-weight: bold; line-height: 1; border-radius: 0.35em; vertical-align: middle; margin-left: 0.5rem\">PERSON</span>\n",
       "</mark>\n",
       "'s administration on \n",
       "<mark class=\"entity\" style=\"background: #bfe1d9; padding: 0.45em 0.6em; margin: 0 0.25em; line-height: 1; border-radius: 0.35em;\">\n",
       "    Tuesday\n",
       "    <span style=\"font-size: 0.8em; font-weight: bold; line-height: 1; border-radius: 0.35em; vertical-align: middle; margin-left: 0.5rem\">DATE</span>\n",
       "</mark>\n",
       " announced investigations into foreign digital services taxes it says are aimed squarely at \n",
       "<mark class=\"entity\" style=\"background: #c887fb; padding: 0.45em 0.6em; margin: 0 0.25em; line-height: 1; border-radius: 0.35em;\">\n",
       "    American\n",
       "    <span style=\"font-size: 0.8em; font-weight: bold; line-height: 1; border-radius: 0.35em; vertical-align: middle; margin-left: 0.5rem\">NORP</span>\n",
       "</mark>\n",
       " tech firms.</br>Following a similar trade investigation against \n",
       "<mark class=\"entity\" style=\"background: #feca74; padding: 0.45em 0.6em; margin: 0 0.25em; line-height: 1; border-radius: 0.35em;\">\n",
       "    France\n",
       "    <span style=\"font-size: 0.8em; font-weight: bold; line-height: 1; border-radius: 0.35em; vertical-align: middle; margin-left: 0.5rem\">GPE</span>\n",
       "</mark>\n",
       " \n",
       "<mark class=\"entity\" style=\"background: #bfe1d9; padding: 0.45em 0.6em; margin: 0 0.25em; line-height: 1; border-radius: 0.35em;\">\n",
       "    last year\n",
       "    <span style=\"font-size: 0.8em; font-weight: bold; line-height: 1; border-radius: 0.35em; vertical-align: middle; margin-left: 0.5rem\">DATE</span>\n",
       "</mark>\n",
       ", \n",
       "<mark class=\"entity\" style=\"background: #7aecec; padding: 0.45em 0.6em; margin: 0 0.25em; line-height: 1; border-radius: 0.35em;\">\n",
       "    the US Trade Representative\n",
       "    <span style=\"font-size: 0.8em; font-weight: bold; line-height: 1; border-radius: 0.35em; vertical-align: middle; margin-left: 0.5rem\">ORG</span>\n",
       "</mark>\n",
       " office now is looking into taxes in \n",
       "<mark class=\"entity\" style=\"background: #feca74; padding: 0.45em 0.6em; margin: 0 0.25em; line-height: 1; border-radius: 0.35em;\">\n",
       "    Britain\n",
       "    <span style=\"font-size: 0.8em; font-weight: bold; line-height: 1; border-radius: 0.35em; vertical-align: middle; margin-left: 0.5rem\">GPE</span>\n",
       "</mark>\n",
       " and \n",
       "<mark class=\"entity\" style=\"background: #7aecec; padding: 0.45em 0.6em; margin: 0 0.25em; line-height: 1; border-radius: 0.35em;\">\n",
       "    the European Union\n",
       "    <span style=\"font-size: 0.8em; font-weight: bold; line-height: 1; border-radius: 0.35em; vertical-align: middle; margin-left: 0.5rem\">ORG</span>\n",
       "</mark>\n",
       ", as well as \n",
       "<mark class=\"entity\" style=\"background: #feca74; padding: 0.45em 0.6em; margin: 0 0.25em; line-height: 1; border-radius: 0.35em;\">\n",
       "    Indonesia\n",
       "    <span style=\"font-size: 0.8em; font-weight: bold; line-height: 1; border-radius: 0.35em; vertical-align: middle; margin-left: 0.5rem\">GPE</span>\n",
       "</mark>\n",
       ", \n",
       "<mark class=\"entity\" style=\"background: #feca74; padding: 0.45em 0.6em; margin: 0 0.25em; line-height: 1; border-radius: 0.35em;\">\n",
       "    Turkey\n",
       "    <span style=\"font-size: 0.8em; font-weight: bold; line-height: 1; border-radius: 0.35em; vertical-align: middle; margin-left: 0.5rem\">GPE</span>\n",
       "</mark>\n",
       " and \n",
       "<mark class=\"entity\" style=\"background: #feca74; padding: 0.45em 0.6em; margin: 0 0.25em; line-height: 1; border-radius: 0.35em;\">\n",
       "    India\n",
       "    <span style=\"font-size: 0.8em; font-weight: bold; line-height: 1; border-radius: 0.35em; vertical-align: middle; margin-left: 0.5rem\">GPE</span>\n",
       "</mark>\n",
       ".</br>&quot;President \n",
       "<mark class=\"entity\" style=\"background: #aa9cfc; padding: 0.45em 0.6em; margin: 0 0.25em; line-height: 1; border-radius: 0.35em;\">\n",
       "    Trump\n",
       "    <span style=\"font-size: 0.8em; font-weight: bold; line-height: 1; border-radius: 0.35em; vertical-align: middle; margin-left: 0.5rem\">PERSON</span>\n",
       "</mark>\n",
       " is concerned that many of our trading partners are adopting tax schemes designed to unfairly target our companies,&quot; USTR \n",
       "<mark class=\"entity\" style=\"background: #aa9cfc; padding: 0.45em 0.6em; margin: 0 0.25em; line-height: 1; border-radius: 0.35em;\">\n",
       "    Robert Lighthizer\n",
       "    <span style=\"font-size: 0.8em; font-weight: bold; line-height: 1; border-radius: 0.35em; vertical-align: middle; margin-left: 0.5rem\">PERSON</span>\n",
       "</mark>\n",
       " said in a statement.</br>&quot;We are prepared to take all appropriate action to defend our businesses and workers against any such discrimination.&quot;</br>\n",
       "<mark class=\"entity\" style=\"background: #feca74; padding: 0.45em 0.6em; margin: 0 0.25em; line-height: 1; border-radius: 0.35em;\">\n",
       "    Washington\n",
       "    <span style=\"font-size: 0.8em; font-weight: bold; line-height: 1; border-radius: 0.35em; vertical-align: middle; margin-left: 0.5rem\">GPE</span>\n",
       "</mark>\n",
       " opposes the efforts to tax revenues from online sales and advertising, saying they single out \n",
       "<mark class=\"entity\" style=\"background: #feca74; padding: 0.45em 0.6em; margin: 0 0.25em; line-height: 1; border-radius: 0.35em;\">\n",
       "    US\n",
       "    <span style=\"font-size: 0.8em; font-weight: bold; line-height: 1; border-radius: 0.35em; vertical-align: middle; margin-left: 0.5rem\">GPE</span>\n",
       "</mark>\n",
       " tech giants like \n",
       "<mark class=\"entity\" style=\"background: #7aecec; padding: 0.45em 0.6em; margin: 0 0.25em; line-height: 1; border-radius: 0.35em;\">\n",
       "    Google\n",
       "    <span style=\"font-size: 0.8em; font-weight: bold; line-height: 1; border-radius: 0.35em; vertical-align: middle; margin-left: 0.5rem\">ORG</span>\n",
       "</mark>\n",
       ", \n",
       "<mark class=\"entity\" style=\"background: #7aecec; padding: 0.45em 0.6em; margin: 0 0.25em; line-height: 1; border-radius: 0.35em;\">\n",
       "    Apple\n",
       "    <span style=\"font-size: 0.8em; font-weight: bold; line-height: 1; border-radius: 0.35em; vertical-align: middle; margin-left: 0.5rem\">ORG</span>\n",
       "</mark>\n",
       ", Facebook, \n",
       "<mark class=\"entity\" style=\"background: #7aecec; padding: 0.45em 0.6em; margin: 0 0.25em; line-height: 1; border-radius: 0.35em;\">\n",
       "    Amazon\n",
       "    <span style=\"font-size: 0.8em; font-weight: bold; line-height: 1; border-radius: 0.35em; vertical-align: middle; margin-left: 0.5rem\">ORG</span>\n",
       "</mark>\n",
       " and \n",
       "<mark class=\"entity\" style=\"background: #feca74; padding: 0.45em 0.6em; margin: 0 0.25em; line-height: 1; border-radius: 0.35em;\">\n",
       "    Netflix\n",
       "    <span style=\"font-size: 0.8em; font-weight: bold; line-height: 1; border-radius: 0.35em; vertical-align: middle; margin-left: 0.5rem\">GPE</span>\n",
       "</mark>\n",
       ".</br>The \n",
       "<mark class=\"entity\" style=\"background: #feca74; padding: 0.45em 0.6em; margin: 0 0.25em; line-height: 1; border-radius: 0.35em;\">\n",
       "    US\n",
       "    <span style=\"font-size: 0.8em; font-weight: bold; line-height: 1; border-radius: 0.35em; vertical-align: middle; margin-left: 0.5rem\">GPE</span>\n",
       "</mark>\n",
       " and \n",
       "<mark class=\"entity\" style=\"background: #feca74; padding: 0.45em 0.6em; margin: 0 0.25em; line-height: 1; border-radius: 0.35em;\">\n",
       "    France\n",
       "    <span style=\"font-size: 0.8em; font-weight: bold; line-height: 1; border-radius: 0.35em; vertical-align: middle; margin-left: 0.5rem\">GPE</span>\n",
       "</mark>\n",
       " have agreed to negotiate till \n",
       "<mark class=\"entity\" style=\"background: #bfe1d9; padding: 0.45em 0.6em; margin: 0 0.25em; line-height: 1; border-radius: 0.35em;\">\n",
       "    the end of the year\n",
       "    <span style=\"font-size: 0.8em; font-weight: bold; line-height: 1; border-radius: 0.35em; vertical-align: middle; margin-left: 0.5rem\">DATE</span>\n",
       "</mark>\n",
       " over a digital services tax \n",
       "<mark class=\"entity\" style=\"background: #feca74; padding: 0.45em 0.6em; margin: 0 0.25em; line-height: 1; border-radius: 0.35em;\">\n",
       "    Paris\n",
       "    <span style=\"font-size: 0.8em; font-weight: bold; line-height: 1; border-radius: 0.35em; vertical-align: middle; margin-left: 0.5rem\">GPE</span>\n",
       "</mark>\n",
       " approved in \n",
       "<mark class=\"entity\" style=\"background: #bfe1d9; padding: 0.45em 0.6em; margin: 0 0.25em; line-height: 1; border-radius: 0.35em;\">\n",
       "    2019\n",
       "    <span style=\"font-size: 0.8em; font-weight: bold; line-height: 1; border-radius: 0.35em; vertical-align: middle; margin-left: 0.5rem\">DATE</span>\n",
       "</mark>\n",
       ", after \n",
       "<mark class=\"entity\" style=\"background: #7aecec; padding: 0.45em 0.6em; margin: 0 0.25em; line-height: 1; border-radius: 0.35em;\">\n",
       "    USTR\n",
       "    <span style=\"font-size: 0.8em; font-weight: bold; line-height: 1; border-radius: 0.35em; vertical-align: middle; margin-left: 0.5rem\">ORG</span>\n",
       "</mark>\n",
       " found them to be discriminating and threatened retaliatory duties of \n",
       "<mark class=\"entity\" style=\"background: #e4e7d2; padding: 0.45em 0.6em; margin: 0 0.25em; line-height: 1; border-radius: 0.35em;\">\n",
       "    up to 100 percent\n",
       "    <span style=\"font-size: 0.8em; font-weight: bold; line-height: 1; border-radius: 0.35em; vertical-align: middle; margin-left: 0.5rem\">PERCENT</span>\n",
       "</mark>\n",
       " on \n",
       "<mark class=\"entity\" style=\"background: #c887fb; padding: 0.45em 0.6em; margin: 0 0.25em; line-height: 1; border-radius: 0.35em;\">\n",
       "    French\n",
       "    <span style=\"font-size: 0.8em; font-weight: bold; line-height: 1; border-radius: 0.35em; vertical-align: middle; margin-left: 0.5rem\">NORP</span>\n",
       "</mark>\n",
       " imports such as champagne and camembert cheese.</br>\n",
       "<mark class=\"entity\" style=\"background: #7aecec; padding: 0.45em 0.6em; margin: 0 0.25em; line-height: 1; border-radius: 0.35em;\">\n",
       "    Trump\n",
       "    <span style=\"font-size: 0.8em; font-weight: bold; line-height: 1; border-radius: 0.35em; vertical-align: middle; margin-left: 0.5rem\">ORG</span>\n",
       "</mark>\n",
       " has embroiled the \n",
       "<mark class=\"entity\" style=\"background: #feca74; padding: 0.45em 0.6em; margin: 0 0.25em; line-height: 1; border-radius: 0.35em;\">\n",
       "    US\n",
       "    <span style=\"font-size: 0.8em; font-weight: bold; line-height: 1; border-radius: 0.35em; vertical-align: middle; margin-left: 0.5rem\">GPE</span>\n",
       "</mark>\n",
       " in numerous trade disputes since taking office in \n",
       "<mark class=\"entity\" style=\"background: #bfe1d9; padding: 0.45em 0.6em; margin: 0 0.25em; line-height: 1; border-radius: 0.35em;\">\n",
       "    2017\n",
       "    <span style=\"font-size: 0.8em; font-weight: bold; line-height: 1; border-radius: 0.35em; vertical-align: middle; margin-left: 0.5rem\">DATE</span>\n",
       "</mark>\n",
       ", including a \n",
       "<mark class=\"entity\" style=\"background: #bfe1d9; padding: 0.45em 0.6em; margin: 0 0.25em; line-height: 1; border-radius: 0.35em;\">\n",
       "    months\n",
       "    <span style=\"font-size: 0.8em; font-weight: bold; line-height: 1; border-radius: 0.35em; vertical-align: middle; margin-left: 0.5rem\">DATE</span>\n",
       "</mark>\n",
       "-long trade war with \n",
       "<mark class=\"entity\" style=\"background: #feca74; padding: 0.45em 0.6em; margin: 0 0.25em; line-height: 1; border-radius: 0.35em;\">\n",
       "    China\n",
       "    <span style=\"font-size: 0.8em; font-weight: bold; line-height: 1; border-radius: 0.35em; vertical-align: middle; margin-left: 0.5rem\">GPE</span>\n",
       "</mark>\n",
       " that cooled with the signing of a partial deal in \n",
       "<mark class=\"entity\" style=\"background: #bfe1d9; padding: 0.45em 0.6em; margin: 0 0.25em; line-height: 1; border-radius: 0.35em;\">\n",
       "    January\n",
       "    <span style=\"font-size: 0.8em; font-weight: bold; line-height: 1; border-radius: 0.35em; vertical-align: middle; margin-left: 0.5rem\">DATE</span>\n",
       "</mark>\n",
       ".</div></span>"
      ],
      "text/plain": [
       "<IPython.core.display.HTML object>"
      ]
     },
     "metadata": {},
     "output_type": "display_data"
    }
   ],
   "source": [
    "displacy.render(doc, style='ent')"
   ]
  },
  {
   "cell_type": "markdown",
   "id": "65cd0ff3",
   "metadata": {},
   "source": [
    "#### Use API calls to extract Company/Organization and Geo entities from  the article."
   ]
  },
  {
   "cell_type": "code",
   "execution_count": 19,
   "id": "81362f52",
   "metadata": {},
   "outputs": [],
   "source": [
    "#pip install google-cloud-language jupyter_http_over_ws"
   ]
  },
  {
   "cell_type": "markdown",
   "id": "1c170403",
   "metadata": {},
   "source": [
    "#### Authenticate with Google Cloud"
   ]
  },
  {
   "cell_type": "code",
   "execution_count": 23,
   "id": "28c867b6",
   "metadata": {},
   "outputs": [],
   "source": [
    "from google.cloud import language_v1\n",
    "from google.oauth2 import service_account\n",
    "\n",
    "credentials = service_account.Credentials.from_service_account_file('flask-web-app-393318-7d347b6b793b.json')\n",
    "\n",
    "client = language_v1.LanguageServiceClient(credentials=credentials)"
   ]
  },
  {
   "cell_type": "markdown",
   "id": "39135918",
   "metadata": {},
   "source": [
    "#### Make API Call"
   ]
  },
  {
   "cell_type": "code",
   "execution_count": 26,
   "id": "1f07dcc8",
   "metadata": {},
   "outputs": [
    {
     "name": "stdout",
     "output_type": "stream",
     "text": [
      "[('GEO ENTITY', 'US'), ('COMPANY/ORGANIZATION', 'administration'), ('COMPANY/ORGANIZATION', 'tech firms'), ('COMPANY/ORGANIZATION', 'Washington'), ('COMPANY/ORGANIZATION', 'USTR'), ('COMPANY/ORGANIZATION', 'office'), ('COMPANY/ORGANIZATION', 'France'), ('COMPANY/ORGANIZATION', 'businesses'), ('COMPANY/ORGANIZATION', 'trading partners'), ('COMPANY/ORGANIZATION', 'companies'), ('COMPANY/ORGANIZATION', 'tech giants'), ('GEO ENTITY', 'Turkey'), ('GEO ENTITY', 'Indonesia'), ('COMPANY/ORGANIZATION', 'European Union'), ('GEO ENTITY', 'Britain'), ('GEO ENTITY', 'India'), ('COMPANY/ORGANIZATION', 'Netflix'), ('COMPANY/ORGANIZATION', 'Amazon'), ('COMPANY/ORGANIZATION', 'Apple'), ('COMPANY/ORGANIZATION', 'Google'), ('GEO ENTITY', 'French'), ('COMPANY/ORGANIZATION', 'China'), ('GEO ENTITY', 'Paris')]\n"
     ]
    }
   ],
   "source": [
    "document = language_v1.Document(content=text, type_=language_v1.Document.Type.PLAIN_TEXT)\n",
    "response = client.analyze_entities(document=document, encoding_type=language_v1.EncodingType.UTF8)\n",
    "\n",
    "entity_tuples = []\n",
    "\n",
    "for entity in response.entities:\n",
    "    if entity.type_ in [language_v1.Entity.Type.ORGANIZATION]:\n",
    "        entity_tuples.append(('COMPANY/ORGANIZATION', entity.name))\n",
    "    elif entity.type_ == language_v1.Entity.Type.LOCATION:\n",
    "        entity_tuples.append(('GEO ENTITY', entity.name))\n",
    "\n",
    "print(entity_tuples)"
   ]
  },
  {
   "cell_type": "markdown",
   "id": "29a72d0f",
   "metadata": {},
   "source": [
    "#### Train a Model"
   ]
  },
  {
   "cell_type": "code",
   "execution_count": 22,
   "id": "9072e6d4",
   "metadata": {},
   "outputs": [],
   "source": [
    "nlp = spacy.blank('en')"
   ]
  },
  {
   "cell_type": "code",
   "execution_count": 23,
   "id": "e7ba768e",
   "metadata": {},
   "outputs": [
    {
     "data": {
      "text/plain": [
       "[US President Donald Trump's administration on Tuesday announced investigations into foreign digital services taxes it says are aimed squarely at American tech firms.,\n",
       " Following a similar trade investigation against France last year, the US Trade Representative office now is looking into taxes in Britain and the European Union, as well as Indonesia, Turkey and India.,\n",
       " \"President Trump is concerned that many of our trading partners are adopting tax schemes designed to unfairly target our companies,\" USTR Robert Lighthizer said in a statement.,\n",
       " \"We are prepared to take all appropriate action to defend our businesses and workers against any such discrimination.,\n",
       " \"\n",
       " Washington opposes the efforts to tax revenues from online sales and advertising, saying they single out US tech giants like Google, Apple, Facebook, Amazon and Netflix.,\n",
       " The US and France have agreed to negotiate till the end of the year over a digital services tax Paris approved in 2019, after USTR found them to be discriminating and threatened retaliatory duties of up to 100 percent on French imports such as champagne and camembert cheese.,\n",
       " Trump has embroiled the US in numerous trade disputes since taking office in 2017, including a months-long trade war with China that cooled with the signing of a partial deal in January.]"
      ]
     },
     "execution_count": 23,
     "metadata": {},
     "output_type": "execute_result"
    }
   ],
   "source": [
    "list(doc.sents)"
   ]
  },
  {
   "cell_type": "code",
   "execution_count": 24,
   "id": "5c3558aa",
   "metadata": {},
   "outputs": [],
   "source": [
    "sents = [f'{sentence}' for sentence in doc.sents]"
   ]
  },
  {
   "cell_type": "code",
   "execution_count": 25,
   "id": "fcdde249",
   "metadata": {},
   "outputs": [],
   "source": [
    "import re"
   ]
  },
  {
   "cell_type": "code",
   "execution_count": 26,
   "id": "b8f8439a",
   "metadata": {},
   "outputs": [
    {
     "data": {
      "text/plain": [
       "\"US President Donald Trump's administration on Tuesday announced investigations into foreign digital services taxes it says are aimed squarely at American tech firms.\\n\""
      ]
     },
     "execution_count": 26,
     "metadata": {},
     "output_type": "execute_result"
    }
   ],
   "source": [
    "sents[0]"
   ]
  },
  {
   "cell_type": "code",
   "execution_count": 27,
   "id": "5c82bc64",
   "metadata": {},
   "outputs": [
    {
     "data": {
      "text/plain": [
       "<re.Match object; span=(0, 2), match='US'>"
      ]
     },
     "execution_count": 27,
     "metadata": {},
     "output_type": "execute_result"
    }
   ],
   "source": [
    "re.search(r'US', sents[0])"
   ]
  },
  {
   "cell_type": "code",
   "execution_count": 28,
   "id": "13ff581f",
   "metadata": {},
   "outputs": [
    {
     "data": {
      "text/plain": [
       "<re.Match object; span=(13, 25), match='Donald Trump'>"
      ]
     },
     "execution_count": 28,
     "metadata": {},
     "output_type": "execute_result"
    }
   ],
   "source": [
    "re.search(r'Donald Trump', sents[0])"
   ]
  },
  {
   "cell_type": "code",
   "execution_count": 29,
   "id": "533de0a3",
   "metadata": {},
   "outputs": [
    {
     "data": {
      "text/plain": [
       "'Following a similar trade investigation against France last year, the US Trade Representative office now is looking into taxes in Britain and the European Union, as well as Indonesia, Turkey and India.\\n'"
      ]
     },
     "execution_count": 29,
     "metadata": {},
     "output_type": "execute_result"
    }
   ],
   "source": [
    "sents[1]"
   ]
  },
  {
   "cell_type": "code",
   "execution_count": 30,
   "id": "a26d4b07",
   "metadata": {},
   "outputs": [
    {
     "data": {
      "text/plain": [
       "<re.Match object; span=(48, 54), match='France'>"
      ]
     },
     "execution_count": 30,
     "metadata": {},
     "output_type": "execute_result"
    }
   ],
   "source": [
    "re.search(r'France', sents[1])"
   ]
  },
  {
   "cell_type": "code",
   "execution_count": 31,
   "id": "1b8dc4e3",
   "metadata": {},
   "outputs": [
    {
     "data": {
      "text/plain": [
       "<re.Match object; span=(70, 100), match='US Trade Representative office'>"
      ]
     },
     "execution_count": 31,
     "metadata": {},
     "output_type": "execute_result"
    }
   ],
   "source": [
    "re.search(r'US Trade Representative office', sents[1])"
   ]
  },
  {
   "cell_type": "code",
   "execution_count": 32,
   "id": "d2805b50",
   "metadata": {},
   "outputs": [
    {
     "data": {
      "text/plain": [
       "<re.Match object; span=(130, 137), match='Britain'>"
      ]
     },
     "execution_count": 32,
     "metadata": {},
     "output_type": "execute_result"
    }
   ],
   "source": [
    "re.search(r'Britain', sents[1])"
   ]
  },
  {
   "cell_type": "code",
   "execution_count": 33,
   "id": "50493a08",
   "metadata": {},
   "outputs": [
    {
     "data": {
      "text/plain": [
       "<re.Match object; span=(142, 160), match='the European Union'>"
      ]
     },
     "execution_count": 33,
     "metadata": {},
     "output_type": "execute_result"
    }
   ],
   "source": [
    "re.search(r'the European Union', sents[1])"
   ]
  },
  {
   "cell_type": "code",
   "execution_count": 34,
   "id": "8fd833df",
   "metadata": {},
   "outputs": [
    {
     "data": {
      "text/plain": [
       "<re.Match object; span=(173, 182), match='Indonesia'>"
      ]
     },
     "execution_count": 34,
     "metadata": {},
     "output_type": "execute_result"
    }
   ],
   "source": [
    "re.search(r'Indonesia', sents[1])"
   ]
  },
  {
   "cell_type": "code",
   "execution_count": 35,
   "id": "53607663",
   "metadata": {},
   "outputs": [
    {
     "data": {
      "text/plain": [
       "<re.Match object; span=(184, 190), match='Turkey'>"
      ]
     },
     "execution_count": 35,
     "metadata": {},
     "output_type": "execute_result"
    }
   ],
   "source": [
    "re.search(r'Turkey', sents[1])"
   ]
  },
  {
   "cell_type": "code",
   "execution_count": 36,
   "id": "b2729bf5",
   "metadata": {},
   "outputs": [
    {
     "data": {
      "text/plain": [
       "<re.Match object; span=(195, 200), match='India'>"
      ]
     },
     "execution_count": 36,
     "metadata": {},
     "output_type": "execute_result"
    }
   ],
   "source": [
    "re.search(r'India', sents[1])"
   ]
  },
  {
   "cell_type": "code",
   "execution_count": 37,
   "id": "6fc37a3a",
   "metadata": {},
   "outputs": [
    {
     "data": {
      "text/plain": [
       "'\"President Trump is concerned that many of our trading partners are adopting tax schemes designed to unfairly target our companies,\" USTR Robert Lighthizer said in a statement.\\n'"
      ]
     },
     "execution_count": 37,
     "metadata": {},
     "output_type": "execute_result"
    }
   ],
   "source": [
    "sents[2]"
   ]
  },
  {
   "cell_type": "code",
   "execution_count": 38,
   "id": "157093a6",
   "metadata": {},
   "outputs": [
    {
     "data": {
      "text/plain": [
       "<re.Match object; span=(11, 16), match='Trump'>"
      ]
     },
     "execution_count": 38,
     "metadata": {},
     "output_type": "execute_result"
    }
   ],
   "source": [
    "re.search(r'Trump', sents[2])"
   ]
  },
  {
   "cell_type": "code",
   "execution_count": 39,
   "id": "a492b7d0",
   "metadata": {},
   "outputs": [
    {
     "data": {
      "text/plain": [
       "<re.Match object; span=(133, 137), match='USTR'>"
      ]
     },
     "execution_count": 39,
     "metadata": {},
     "output_type": "execute_result"
    }
   ],
   "source": [
    "re.search(r'USTR', sents[2])"
   ]
  },
  {
   "cell_type": "code",
   "execution_count": 40,
   "id": "1f4333df",
   "metadata": {},
   "outputs": [
    {
     "data": {
      "text/plain": [
       "<re.Match object; span=(138, 155), match='Robert Lighthizer'>"
      ]
     },
     "execution_count": 40,
     "metadata": {},
     "output_type": "execute_result"
    }
   ],
   "source": [
    "re.search(r'Robert Lighthizer', sents[2])"
   ]
  },
  {
   "cell_type": "code",
   "execution_count": 41,
   "id": "5dd61098",
   "metadata": {},
   "outputs": [
    {
     "data": {
      "text/plain": [
       "'\"\\nWashington opposes the efforts to tax revenues from online sales and advertising, saying they single out US tech giants like Google, Apple, Facebook, Amazon and Netflix.\\n'"
      ]
     },
     "execution_count": 41,
     "metadata": {},
     "output_type": "execute_result"
    }
   ],
   "source": [
    "sents[4]"
   ]
  },
  {
   "cell_type": "code",
   "execution_count": 42,
   "id": "61a53509",
   "metadata": {},
   "outputs": [
    {
     "data": {
      "text/plain": [
       "<re.Match object; span=(2, 12), match='Washington'>"
      ]
     },
     "execution_count": 42,
     "metadata": {},
     "output_type": "execute_result"
    }
   ],
   "source": [
    "re.search(r'Washington', sents[4])"
   ]
  },
  {
   "cell_type": "code",
   "execution_count": 43,
   "id": "9d7417f4",
   "metadata": {},
   "outputs": [
    {
     "data": {
      "text/plain": [
       "<re.Match object; span=(107, 109), match='US'>"
      ]
     },
     "execution_count": 43,
     "metadata": {},
     "output_type": "execute_result"
    }
   ],
   "source": [
    "re.search(r'US', sents[4])"
   ]
  },
  {
   "cell_type": "code",
   "execution_count": 44,
   "id": "d9e466ae",
   "metadata": {},
   "outputs": [
    {
     "data": {
      "text/plain": [
       "<re.Match object; span=(127, 133), match='Google'>"
      ]
     },
     "execution_count": 44,
     "metadata": {},
     "output_type": "execute_result"
    }
   ],
   "source": [
    "re.search(r'Google', sents[4])"
   ]
  },
  {
   "cell_type": "code",
   "execution_count": 45,
   "id": "39a1ad34",
   "metadata": {},
   "outputs": [
    {
     "data": {
      "text/plain": [
       "<re.Match object; span=(135, 140), match='Apple'>"
      ]
     },
     "execution_count": 45,
     "metadata": {},
     "output_type": "execute_result"
    }
   ],
   "source": [
    "re.search(r'Apple', sents[4])"
   ]
  },
  {
   "cell_type": "code",
   "execution_count": 46,
   "id": "10e4efb4",
   "metadata": {},
   "outputs": [
    {
     "data": {
      "text/plain": [
       "<re.Match object; span=(142, 150), match='Facebook'>"
      ]
     },
     "execution_count": 46,
     "metadata": {},
     "output_type": "execute_result"
    }
   ],
   "source": [
    "re.search(r'Facebook', sents[4])"
   ]
  },
  {
   "cell_type": "code",
   "execution_count": 47,
   "id": "2d0dd5aa",
   "metadata": {},
   "outputs": [
    {
     "data": {
      "text/plain": [
       "<re.Match object; span=(152, 158), match='Amazon'>"
      ]
     },
     "execution_count": 47,
     "metadata": {},
     "output_type": "execute_result"
    }
   ],
   "source": [
    "re.search(r'Amazon', sents[4])"
   ]
  },
  {
   "cell_type": "code",
   "execution_count": 48,
   "id": "0a7f1b75",
   "metadata": {},
   "outputs": [
    {
     "data": {
      "text/plain": [
       "<re.Match object; span=(163, 170), match='Netflix'>"
      ]
     },
     "execution_count": 48,
     "metadata": {},
     "output_type": "execute_result"
    }
   ],
   "source": [
    "re.search(r'Netflix', sents[4])"
   ]
  },
  {
   "cell_type": "code",
   "execution_count": 49,
   "id": "c0c63fa7",
   "metadata": {},
   "outputs": [
    {
     "data": {
      "text/plain": [
       "'The US and France have agreed to negotiate till the end of the year over a digital services tax Paris approved in 2019, after USTR found them to be discriminating and threatened retaliatory duties of up to 100 percent on French imports such as champagne and camembert cheese.\\n'"
      ]
     },
     "execution_count": 49,
     "metadata": {},
     "output_type": "execute_result"
    }
   ],
   "source": [
    "sents[5]"
   ]
  },
  {
   "cell_type": "code",
   "execution_count": 50,
   "id": "16900468",
   "metadata": {},
   "outputs": [
    {
     "data": {
      "text/plain": [
       "<re.Match object; span=(4, 6), match='US'>"
      ]
     },
     "execution_count": 50,
     "metadata": {},
     "output_type": "execute_result"
    }
   ],
   "source": [
    "re.search(r'US', sents[5])"
   ]
  },
  {
   "cell_type": "code",
   "execution_count": 51,
   "id": "639b4d5d",
   "metadata": {},
   "outputs": [
    {
     "data": {
      "text/plain": [
       "<re.Match object; span=(11, 17), match='France'>"
      ]
     },
     "execution_count": 51,
     "metadata": {},
     "output_type": "execute_result"
    }
   ],
   "source": [
    "re.search(r'France', sents[5])"
   ]
  },
  {
   "cell_type": "code",
   "execution_count": 52,
   "id": "e7d17784",
   "metadata": {},
   "outputs": [
    {
     "data": {
      "text/plain": [
       "<re.Match object; span=(96, 101), match='Paris'>"
      ]
     },
     "execution_count": 52,
     "metadata": {},
     "output_type": "execute_result"
    }
   ],
   "source": [
    "re.search(r'Paris', sents[5])"
   ]
  },
  {
   "cell_type": "code",
   "execution_count": 53,
   "id": "e9f46e5d",
   "metadata": {},
   "outputs": [
    {
     "data": {
      "text/plain": [
       "<re.Match object; span=(126, 130), match='USTR'>"
      ]
     },
     "execution_count": 53,
     "metadata": {},
     "output_type": "execute_result"
    }
   ],
   "source": [
    "re.search(r'USTR', sents[5])"
   ]
  },
  {
   "cell_type": "code",
   "execution_count": 54,
   "id": "a097d111",
   "metadata": {},
   "outputs": [
    {
     "data": {
      "text/plain": [
       "'Trump has embroiled the US in numerous trade disputes since taking office in 2017, including a months-long trade war with China that cooled with the signing of a partial deal in January.'"
      ]
     },
     "execution_count": 54,
     "metadata": {},
     "output_type": "execute_result"
    }
   ],
   "source": [
    "sents[6]"
   ]
  },
  {
   "cell_type": "code",
   "execution_count": 55,
   "id": "89d8dd3d",
   "metadata": {},
   "outputs": [
    {
     "data": {
      "text/plain": [
       "<re.Match object; span=(0, 5), match='Trump'>"
      ]
     },
     "execution_count": 55,
     "metadata": {},
     "output_type": "execute_result"
    }
   ],
   "source": [
    "re.search(r'Trump', sents[6])"
   ]
  },
  {
   "cell_type": "code",
   "execution_count": 56,
   "id": "9b8d48d8",
   "metadata": {},
   "outputs": [
    {
     "data": {
      "text/plain": [
       "<re.Match object; span=(24, 26), match='US'>"
      ]
     },
     "execution_count": 56,
     "metadata": {},
     "output_type": "execute_result"
    }
   ],
   "source": [
    "re.search(r'US', sents[6])"
   ]
  },
  {
   "cell_type": "code",
   "execution_count": 57,
   "id": "f3e3b5f9",
   "metadata": {},
   "outputs": [
    {
     "data": {
      "text/plain": [
       "<re.Match object; span=(122, 127), match='China'>"
      ]
     },
     "execution_count": 57,
     "metadata": {},
     "output_type": "execute_result"
    }
   ],
   "source": [
    "re.search(r'China', sents[6])"
   ]
  },
  {
   "cell_type": "code",
   "execution_count": 58,
   "id": "be0ba7b2",
   "metadata": {},
   "outputs": [],
   "source": [
    "TRAIN_DATA = [\n",
    "    (sents[0], {'entities': [(0, 2, \"GPE\"),(13, 25, \"PERSON\")]}),\n",
    "    (sents[1], {'entities': [(48, 54, \"GPE\"),(66, 100, \"ORG\"),(130, 137, \"GPE\"),(142, 160, \"ORG\"),(173, 182, \"GPE\"),(184, 190, \"GPE\"),(195, 200, \"GPE\")]}),\n",
    "    (sents[2], {'entities': [(11, 16, \"PERSON\"),(138, 155, \"PERSON\"),(133, 137, \"ORG\")]}),\n",
    "    (sents[4], {'entities': [(2, 12, \"GPE\"),(107, 109, \"GPE\"),(127, 133, \"ORG\"),(135, 140, \"ORG\"),(142, 150, \"ORG\"),(152, 158, \"ORG\"),(163, 170, \"ORG\")]}),\n",
    "    (sents[5], {'entities': [(4, 6, \"GPE\"),(11, 17, \"GPE\"),(96, 101, \"GPE\"),(126, 130, \"ORG\")]}),\n",
    "    (sents[6], {'entities': [(0, 5, \"PERSON\"),(24, 26, \"GPE\"),(122, 127, \"GPE\")]}),\n",
    "]"
   ]
  },
  {
   "cell_type": "markdown",
   "id": "f4b4ba9c",
   "metadata": {},
   "source": [
    "#### Train a blank SpaCy nlp pipeline using the TRAIN_DATA"
   ]
  },
  {
   "cell_type": "code",
   "execution_count": 59,
   "id": "c097d406",
   "metadata": {},
   "outputs": [],
   "source": [
    "ner = nlp.add_pipe('ner', last=True)"
   ]
  },
  {
   "cell_type": "code",
   "execution_count": 60,
   "id": "5b5caa0f",
   "metadata": {},
   "outputs": [
    {
     "data": {
      "text/plain": [
       "{'ner': {'assigns': ['doc.ents', 'token.ent_iob', 'token.ent_type'],\n",
       "  'requires': [],\n",
       "  'scores': ['ents_f', 'ents_p', 'ents_r', 'ents_per_type'],\n",
       "  'retokenizes': False}}"
      ]
     },
     "execution_count": 60,
     "metadata": {},
     "output_type": "execute_result"
    }
   ],
   "source": [
    "nlp.analyze_pipes()['summary']"
   ]
  },
  {
   "cell_type": "code",
   "execution_count": 61,
   "id": "20d51e65",
   "metadata": {},
   "outputs": [],
   "source": [
    "for _, annotations in TRAIN_DATA:\n",
    "    for ent in annotations.get(\"entities\"):\n",
    "        ner.add_label(ent[2])"
   ]
  },
  {
   "cell_type": "code",
   "execution_count": 62,
   "id": "cb4c750c",
   "metadata": {},
   "outputs": [],
   "source": [
    "from spacy.training import Example"
   ]
  },
  {
   "cell_type": "code",
   "execution_count": 63,
   "id": "ac75571b",
   "metadata": {},
   "outputs": [],
   "source": [
    "n_iter = 100\n",
    "loss_history=[]\n",
    "with nlp.select_pipes(enable=[\"ner\"]):\n",
    "    optimizer = nlp.begin_training()\n",
    "    for itn in range(n_iter):\n",
    "        losses = {}\n",
    "        texts, annotations = zip(*TRAIN_DATA)\n",
    "        examples = []\n",
    "        for i in range(len(texts)):\n",
    "            doc = nlp.make_doc(texts[i])\n",
    "            example = Example.from_dict(doc, annotations[i])\n",
    "            examples.append(example)\n",
    "        nlp.update(examples, drop=0.5, losses=losses, sgd=optimizer)\n",
    "        loss_history.append(losses['ner'])"
   ]
  },
  {
   "cell_type": "code",
   "execution_count": 64,
   "id": "ad441d70",
   "metadata": {},
   "outputs": [],
   "source": [
    "import matplotlib.pyplot as plt"
   ]
  },
  {
   "cell_type": "code",
   "execution_count": 65,
   "id": "7dc298fa",
   "metadata": {},
   "outputs": [
    {
     "data": {
      "text/plain": [
       "[<matplotlib.lines.Line2D at 0x7fb99b2e9a60>]"
      ]
     },
     "execution_count": 65,
     "metadata": {},
     "output_type": "execute_result"
    },
    {
     "data": {
      "image/png": "[encoded data removed]",
      "text/plain": [
       "<Figure size 640x480 with 1 Axes>"
      ]
     },
     "metadata": {},
     "output_type": "display_data"
    }
   ],
   "source": [
    "plt.plot(loss_history)"
   ]
  },
  {
   "cell_type": "markdown",
   "id": "f0afa3d1",
   "metadata": {},
   "source": [
    "#### Use trained nlp to test entity recognition on an article. "
   ]
  },
  {
   "cell_type": "code",
   "execution_count": 66,
   "id": "ff8c4a3d",
   "metadata": {},
   "outputs": [
    {
     "data": {
      "text/plain": [
       "'1 hour ago Technology Yahoo Tech 36 The same day Donald Trump took to Twitter to threaten to regulate or shut down social media sites, the U.S. appeals court in Washington, D.C. dismissed a lawsuit accusing top tech companies of silencing conservative voices. Filed in 2018 by nonprofit Freedom Watch and right-wing gadfly Laura Loomer, the suit accused Apple, Facebook, Twitter and Google of stifling First Amendment rights.'"
      ]
     },
     "execution_count": 66,
     "metadata": {},
     "output_type": "execute_result"
    }
   ],
   "source": [
    "text = newsfeeds_apple[4390]['text']\n",
    "text"
   ]
  },
  {
   "cell_type": "code",
   "execution_count": 67,
   "id": "87f1dbb8",
   "metadata": {},
   "outputs": [],
   "source": [
    "doc = nlp(text)"
   ]
  },
  {
   "cell_type": "code",
   "execution_count": 68,
   "id": "398b8a83",
   "metadata": {},
   "outputs": [
    {
     "data": {
      "text/plain": [
       "[(Technology, 'ORG'),\n",
       " (Yahoo, 'PERSON'),\n",
       " (Donald Trump, 'PERSON'),\n",
       " (the U.S. appeals court, 'ORG'),\n",
       " (Washington, 'GPE'),\n",
       " (D.C., 'GPE'),\n",
       " (Filed, 'GPE'),\n",
       " (Loomer, 'GPE'),\n",
       " (the, 'GPE'),\n",
       " (Apple, 'ORG'),\n",
       " (Facebook, 'ORG'),\n",
       " (Twitter, 'ORG'),\n",
       " (Google, 'ORG')]"
      ]
     },
     "execution_count": 68,
     "metadata": {},
     "output_type": "execute_result"
    }
   ],
   "source": [
    "[(ent, ent.label_) for ent in doc.ents]"
   ]
  },
  {
   "cell_type": "code",
   "execution_count": 69,
   "id": "037d965e",
   "metadata": {},
   "outputs": [
    {
     "data": {
      "text/html": [
       "<span class=\"tex2jax_ignore\"><div class=\"entities\" style=\"line-height: 2.5; direction: ltr\">1 hour ago \n",
       "<mark class=\"entity\" style=\"background: #7aecec; padding: 0.45em 0.6em; margin: 0 0.25em; line-height: 1; border-radius: 0.35em;\">\n",
       "    Technology\n",
       "    <span style=\"font-size: 0.8em; font-weight: bold; line-height: 1; border-radius: 0.35em; vertical-align: middle; margin-left: 0.5rem\">ORG</span>\n",
       "</mark>\n",
       " \n",
       "<mark class=\"entity\" style=\"background: #aa9cfc; padding: 0.45em 0.6em; margin: 0 0.25em; line-height: 1; border-radius: 0.35em;\">\n",
       "    Yahoo\n",
       "    <span style=\"font-size: 0.8em; font-weight: bold; line-height: 1; border-radius: 0.35em; vertical-align: middle; margin-left: 0.5rem\">PERSON</span>\n",
       "</mark>\n",
       " Tech 36 The same day \n",
       "<mark class=\"entity\" style=\"background: #aa9cfc; padding: 0.45em 0.6em; margin: 0 0.25em; line-height: 1; border-radius: 0.35em;\">\n",
       "    Donald Trump\n",
       "    <span style=\"font-size: 0.8em; font-weight: bold; line-height: 1; border-radius: 0.35em; vertical-align: middle; margin-left: 0.5rem\">PERSON</span>\n",
       "</mark>\n",
       " took to Twitter to threaten to regulate or shut down social media sites, \n",
       "<mark class=\"entity\" style=\"background: #7aecec; padding: 0.45em 0.6em; margin: 0 0.25em; line-height: 1; border-radius: 0.35em;\">\n",
       "    the U.S. appeals court\n",
       "    <span style=\"font-size: 0.8em; font-weight: bold; line-height: 1; border-radius: 0.35em; vertical-align: middle; margin-left: 0.5rem\">ORG</span>\n",
       "</mark>\n",
       " in \n",
       "<mark class=\"entity\" style=\"background: #feca74; padding: 0.45em 0.6em; margin: 0 0.25em; line-height: 1; border-radius: 0.35em;\">\n",
       "    Washington\n",
       "    <span style=\"font-size: 0.8em; font-weight: bold; line-height: 1; border-radius: 0.35em; vertical-align: middle; margin-left: 0.5rem\">GPE</span>\n",
       "</mark>\n",
       ", \n",
       "<mark class=\"entity\" style=\"background: #feca74; padding: 0.45em 0.6em; margin: 0 0.25em; line-height: 1; border-radius: 0.35em;\">\n",
       "    D.C.\n",
       "    <span style=\"font-size: 0.8em; font-weight: bold; line-height: 1; border-radius: 0.35em; vertical-align: middle; margin-left: 0.5rem\">GPE</span>\n",
       "</mark>\n",
       " dismissed a lawsuit accusing top tech companies of silencing conservative voices. \n",
       "<mark class=\"entity\" style=\"background: #feca74; padding: 0.45em 0.6em; margin: 0 0.25em; line-height: 1; border-radius: 0.35em;\">\n",
       "    Filed\n",
       "    <span style=\"font-size: 0.8em; font-weight: bold; line-height: 1; border-radius: 0.35em; vertical-align: middle; margin-left: 0.5rem\">GPE</span>\n",
       "</mark>\n",
       " in 2018 by nonprofit Freedom Watch and right-wing gadfly Laura \n",
       "<mark class=\"entity\" style=\"background: #feca74; padding: 0.45em 0.6em; margin: 0 0.25em; line-height: 1; border-radius: 0.35em;\">\n",
       "    Loomer\n",
       "    <span style=\"font-size: 0.8em; font-weight: bold; line-height: 1; border-radius: 0.35em; vertical-align: middle; margin-left: 0.5rem\">GPE</span>\n",
       "</mark>\n",
       ", \n",
       "<mark class=\"entity\" style=\"background: #feca74; padding: 0.45em 0.6em; margin: 0 0.25em; line-height: 1; border-radius: 0.35em;\">\n",
       "    the\n",
       "    <span style=\"font-size: 0.8em; font-weight: bold; line-height: 1; border-radius: 0.35em; vertical-align: middle; margin-left: 0.5rem\">GPE</span>\n",
       "</mark>\n",
       " suit accused \n",
       "<mark class=\"entity\" style=\"background: #7aecec; padding: 0.45em 0.6em; margin: 0 0.25em; line-height: 1; border-radius: 0.35em;\">\n",
       "    Apple\n",
       "    <span style=\"font-size: 0.8em; font-weight: bold; line-height: 1; border-radius: 0.35em; vertical-align: middle; margin-left: 0.5rem\">ORG</span>\n",
       "</mark>\n",
       ", \n",
       "<mark class=\"entity\" style=\"background: #7aecec; padding: 0.45em 0.6em; margin: 0 0.25em; line-height: 1; border-radius: 0.35em;\">\n",
       "    Facebook\n",
       "    <span style=\"font-size: 0.8em; font-weight: bold; line-height: 1; border-radius: 0.35em; vertical-align: middle; margin-left: 0.5rem\">ORG</span>\n",
       "</mark>\n",
       ", \n",
       "<mark class=\"entity\" style=\"background: #7aecec; padding: 0.45em 0.6em; margin: 0 0.25em; line-height: 1; border-radius: 0.35em;\">\n",
       "    Twitter\n",
       "    <span style=\"font-size: 0.8em; font-weight: bold; line-height: 1; border-radius: 0.35em; vertical-align: middle; margin-left: 0.5rem\">ORG</span>\n",
       "</mark>\n",
       " and \n",
       "<mark class=\"entity\" style=\"background: #7aecec; padding: 0.45em 0.6em; margin: 0 0.25em; line-height: 1; border-radius: 0.35em;\">\n",
       "    Google\n",
       "    <span style=\"font-size: 0.8em; font-weight: bold; line-height: 1; border-radius: 0.35em; vertical-align: middle; margin-left: 0.5rem\">ORG</span>\n",
       "</mark>\n",
       " of stifling First Amendment rights.</div></span>"
      ],
      "text/plain": [
       "<IPython.core.display.HTML object>"
      ]
     },
     "metadata": {},
     "output_type": "display_data"
    }
   ],
   "source": [
    "displacy.render(doc, style='ent')"
   ]
  }
 ],
 "metadata": {
  "kernelspec": {
   "display_name": "Python 3 (ipykernel)",
   "language": "python",
   "name": "python3"
  },
  "language_info": {
   "codemirror_mode": {
    "name": "ipython",
    "version": 3
   },
   "file_extension": ".py",
   "mimetype": "text/x-python",
   "name": "python",
   "nbconvert_exporter": "python",
   "pygments_lexer": "ipython3",
   "version": "3.9.13"
  }
 },
 "nbformat": 4,
 "nbformat_minor": 5
}
